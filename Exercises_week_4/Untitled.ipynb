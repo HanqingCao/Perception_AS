{
 "cells": [
  {
   "cell_type": "code",
   "execution_count": 10,
   "id": "74b05515-69c8-4aea-a409-a9fa23622dcb",
   "metadata": {},
   "outputs": [
    {
     "ename": "error",
     "evalue": "OpenCV(4.7.0) :-1: error: (-5:Bad argument) in function 'circle'\n> Overload resolution failed:\n>  - Can't parse 'center'. Sequence item with index 0 has a wrong type\n>  - Can't parse 'center'. Sequence item with index 0 has a wrong type\n",
     "output_type": "error",
     "traceback": [
      "\u001b[1;31m---------------------------------------------------------------------------\u001b[0m",
      "\u001b[1;31merror\u001b[0m                                     Traceback (most recent call last)",
      "Cell \u001b[1;32mIn[10], line 50\u001b[0m\n\u001b[0;32m     48\u001b[0m lines1 \u001b[38;5;241m=\u001b[39m cv2\u001b[38;5;241m.\u001b[39mcomputeCorrespondEpilines(pts2, \u001b[38;5;241m2\u001b[39m, F)\n\u001b[0;32m     49\u001b[0m lines1 \u001b[38;5;241m=\u001b[39m lines1\u001b[38;5;241m.\u001b[39mreshape(\u001b[38;5;241m-\u001b[39m\u001b[38;5;241m1\u001b[39m, \u001b[38;5;241m3\u001b[39m)\n\u001b[1;32m---> 50\u001b[0m img5, img6 \u001b[38;5;241m=\u001b[39m \u001b[43mdrawlines\u001b[49m\u001b[43m(\u001b[49m\u001b[43mimgl\u001b[49m\u001b[43m,\u001b[49m\u001b[43m \u001b[49m\u001b[43mimgr\u001b[49m\u001b[43m,\u001b[49m\u001b[43m \u001b[49m\u001b[43mlines1\u001b[49m\u001b[43m,\u001b[49m\u001b[43m \u001b[49m\u001b[43mpts1\u001b[49m\u001b[43m,\u001b[49m\u001b[43m \u001b[49m\u001b[43mpts2\u001b[49m\u001b[43m)\u001b[49m\n\u001b[0;32m     52\u001b[0m \u001b[38;5;66;03m# Display the result\u001b[39;00m\n\u001b[0;32m     53\u001b[0m plt\u001b[38;5;241m.\u001b[39msubplot(\u001b[38;5;241m121\u001b[39m), plt\u001b[38;5;241m.\u001b[39mimshow(img5)\n",
      "Cell \u001b[1;32mIn[10], line 41\u001b[0m, in \u001b[0;36mdrawlines\u001b[1;34m(img1, img2, lines, pts1, pts2)\u001b[0m\n\u001b[0;32m     39\u001b[0m     x1, y1 \u001b[38;5;241m=\u001b[39m \u001b[38;5;28mmap\u001b[39m(\u001b[38;5;28mint\u001b[39m, [c, \u001b[38;5;241m-\u001b[39m(r[\u001b[38;5;241m2\u001b[39m] \u001b[38;5;241m+\u001b[39m r[\u001b[38;5;241m0\u001b[39m] \u001b[38;5;241m*\u001b[39m c) \u001b[38;5;241m/\u001b[39m r[\u001b[38;5;241m1\u001b[39m]])\n\u001b[0;32m     40\u001b[0m     img1 \u001b[38;5;241m=\u001b[39m cv2\u001b[38;5;241m.\u001b[39mline(img1, (x0, y0), (x1, y1), color, \u001b[38;5;241m1\u001b[39m)\n\u001b[1;32m---> 41\u001b[0m     img1 \u001b[38;5;241m=\u001b[39m \u001b[43mcv2\u001b[49m\u001b[38;5;241;43m.\u001b[39;49m\u001b[43mcircle\u001b[49m\u001b[43m(\u001b[49m\u001b[43mimg1\u001b[49m\u001b[43m,\u001b[49m\u001b[43m \u001b[49m\u001b[38;5;28;43mtuple\u001b[39;49m\u001b[43m(\u001b[49m\u001b[43mpt1\u001b[49m\u001b[43m[\u001b[49m\u001b[38;5;241;43m0\u001b[39;49m\u001b[43m]\u001b[49m\u001b[43m)\u001b[49m\u001b[43m,\u001b[49m\u001b[43m \u001b[49m\u001b[38;5;241;43m5\u001b[39;49m\u001b[43m,\u001b[49m\u001b[43m \u001b[49m\u001b[43mcolor\u001b[49m\u001b[43m,\u001b[49m\u001b[43m \u001b[49m\u001b[38;5;241;43m-\u001b[39;49m\u001b[38;5;241;43m1\u001b[39;49m\u001b[43m)\u001b[49m\n\u001b[0;32m     42\u001b[0m     img2 \u001b[38;5;241m=\u001b[39m cv2\u001b[38;5;241m.\u001b[39mcircle(img2, \u001b[38;5;28mtuple\u001b[39m(pt2[\u001b[38;5;241m0\u001b[39m]), \u001b[38;5;241m5\u001b[39m, color, \u001b[38;5;241m-\u001b[39m\u001b[38;5;241m1\u001b[39m)\n\u001b[0;32m     43\u001b[0m \u001b[38;5;28;01mreturn\u001b[39;00m img1, img2\n",
      "\u001b[1;31merror\u001b[0m: OpenCV(4.7.0) :-1: error: (-5:Bad argument) in function 'circle'\n> Overload resolution failed:\n>  - Can't parse 'center'. Sequence item with index 0 has a wrong type\n>  - Can't parse 'center'. Sequence item with index 0 has a wrong type\n"
     ]
    }
   ],
   "source": [
    "import cv2\n",
    "import numpy as np\n",
    "from matplotlib import pyplot as plt\n",
    "\n",
    "imgl = cv2.imread(\"img_left.jpg\", 0)\n",
    "imgr = cv2.imread(\"img_right.jpg\", 0)\n",
    "\n",
    "\n",
    "# gray1 = cv2.cvtColor(img1, cv2.COLOR_BGR2GRAY)\n",
    "# gray2 = cv2.cvtColor(img2, cv2.COLOR_BGR2GRAY)\n",
    "sift = cv2.SIFT_create()\n",
    "kp1, des1 = sift.detectAndCompute(imgl, None)\n",
    "kp2, des2 = sift.detectAndCompute(imgr, None)\n",
    "# BFMatcher with default params\n",
    "bf = cv2.BFMatcher()\n",
    "matches = bf.knnMatch(des1, des2, k=2)\n",
    "\n",
    "# Apply ratio test\n",
    "good_matches = []\n",
    "for m, n in matches:\n",
    "    if m.distance < 0.75 * n.distance:\n",
    "        good_matches.append(m)\n",
    "\n",
    "# Convert keypoints to numpy arrays\n",
    "pts1 = np.float32([kp1[m.queryIdx].pt for m in good_matches]).reshape(-1, 1, 2)\n",
    "pts2 = np.float32([kp2[m.trainIdx].pt for m in good_matches]).reshape(-1, 1, 2)\n",
    "\n",
    "# Compute fundamental matrix\n",
    "F, mask = cv2.findFundamentalMat(pts1, pts2, cv2.FM_LMEDS)\n",
    "\n",
    "# Define function to draw epipolar lines\n",
    "def drawlines(img1, img2, lines, pts1, pts2):\n",
    "    r, c = img1.shape\n",
    "    img1 = cv2.cvtColor(img1, cv2.COLOR_GRAY2BGR)\n",
    "    img2 = cv2.cvtColor(img2, cv2.COLOR_GRAY2BGR)\n",
    "    for r, pt1, pt2 in zip(lines, pts1, pts2):\n",
    "        color = tuple(np.random.randint(0, 255, 3).tolist())\n",
    "        x0, y0 = map(int, [0, -r[2] / r[1]])\n",
    "        x1, y1 = map(int, [c, -(r[2] + r[0] * c) / r[1]])\n",
    "        img1 = cv2.line(img1, (x0, y0), (x1, y1), color, 1)\n",
    "        img1 = cv2.circle(img1, tuple(pt1[0]), 5, color, -1)\n",
    "        img2 = cv2.circle(img2, tuple(pt2[0]), 5, color, -1)\n",
    "    return img1, img2\n",
    "\n",
    "# Compute epipolar lines\n",
    "pts1 = pts1[mask.ravel() == 1]\n",
    "pts2 = pts2[mask.ravel() == 1]\n",
    "lines1 = cv2.computeCorrespondEpilines(pts2, 2, F)\n",
    "lines1 = lines1.reshape(-1, 3)\n",
    "img5, img6 = drawlines(imgl, imgr, lines1, pts1, pts2)\n",
    "\n",
    "# Display the result\n",
    "plt.subplot(121), plt.imshow(img5)\n",
    "plt.subplot(122), plt.imshow(img6)\n",
    "plt.show()\n"
   ]
  },
  {
   "cell_type": "code",
   "execution_count": null,
   "id": "84ca8824-1f1a-42a4-a0ff-47a98141557b",
   "metadata": {},
   "outputs": [],
   "source": []
  }
 ],
 "metadata": {
  "kernelspec": {
   "display_name": "Python 3 (ipykernel)",
   "language": "python",
   "name": "python3"
  },
  "language_info": {
   "codemirror_mode": {
    "name": "ipython",
    "version": 3
   },
   "file_extension": ".py",
   "mimetype": "text/x-python",
   "name": "python",
   "nbconvert_exporter": "python",
   "pygments_lexer": "ipython3",
   "version": "3.10.9"
  }
 },
 "nbformat": 4,
 "nbformat_minor": 5
}
